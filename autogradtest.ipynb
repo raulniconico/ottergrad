{
 "cells": [
  {
   "cell_type": "code",
   "execution_count": 1,
   "metadata": {
    "collapsed": true
   },
   "outputs": [],
   "source": [
    "import numpy as np\n",
    "import Ottergrad.autograd as ag\n",
    "import Ottergrad.otternumpy as otnp\n",
    "from Ottergrad.activation import Sigmoid, ReLU\n"
   ]
  },
  {
   "cell_type": "code",
   "execution_count": 2,
   "outputs": [
    {
     "data": {
      "text/plain": "<Ottergrad.autograd.Tensor at 0x7fbaf7ce48e0>"
     },
     "execution_count": 2,
     "metadata": {},
     "output_type": "execute_result"
    }
   ],
   "source": [
    "\n",
    "x = ag.Tensor(np.ones((1,5)))\n",
    "y = ag.Tensor(np.ones((5,3)))\n",
    "func = ag.Func(otnp.sum(x@y))\n",
    "func.forward()\n",
    "func.backward()\n",
    "\n",
    "\n"
   ],
   "metadata": {
    "collapsed": false,
    "pycharm": {
     "name": "#%%\n"
    }
   }
  },
  {
   "cell_type": "code",
   "execution_count": 3,
   "outputs": [],
   "source": [
    "# def npSigmoid(x):\n",
    "#     \"\"\"\n",
    "#     Sigmoid function\n",
    "#     \"\"\"\n",
    "#     func = 1.0 / (1.0 + np.exp(-x))\n",
    "#     return func\n",
    "#\n",
    "# def npReLU(x):\n",
    "#     \"\"\"\n",
    "#     :param x: ndarray,\n",
    "#     :return:\n",
    "#     \"\"\"\n",
    "#\n",
    "#     func = np.maximum(0, x)\n",
    "#     return func\n",
    "#\n",
    "# x = np.ones((1,5))\n",
    "# y = np.ones((5,3))\n",
    "#\n",
    "#\n",
    "# npSigmoid(x@y)\n",
    "# np.dot(x, 1)"
   ],
   "metadata": {
    "collapsed": false,
    "pycharm": {
     "name": "#%%\n"
    }
   }
  }
 ],
 "metadata": {
  "kernelspec": {
   "display_name": "Python 3",
   "language": "python",
   "name": "python3"
  },
  "language_info": {
   "codemirror_mode": {
    "name": "ipython",
    "version": 2
   },
   "file_extension": ".py",
   "mimetype": "text/x-python",
   "name": "python",
   "nbconvert_exporter": "python",
   "pygments_lexer": "ipython2",
   "version": "2.7.6"
  }
 },
 "nbformat": 4,
 "nbformat_minor": 0
}