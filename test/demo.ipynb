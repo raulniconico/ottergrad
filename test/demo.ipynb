{
 "cells": [
  {
   "cell_type": "markdown",
   "metadata": {},
   "source": [
    "# Ottergrad user guide\n",
    "\n",
    "Ottergrad is an automatic differentiation tool support plenty of NumPy functions who borns from Nuwa framework. This project separates the auto-derivative function from Nuwa into a package, whose algorithm is more efficient, simpler and more stable than Nuwa 0.0.2.\n",
    "\n",
    "Edited by Zixing QIU (zixing.qiu@etu.toulouse-inp.fr)"
   ]
  },
  {
   "cell_type": "markdown",
   "source": [
    "# Step 0\n",
    "import Tensor and Func class\n",
    "We also need import otternumpy and Sigmoid function as our example"
   ],
   "metadata": {
    "collapsed": false,
    "pycharm": {
     "name": "#%% md\n"
    }
   }
  },
  {
   "cell_type": "code",
   "execution_count": 22,
   "outputs": [],
   "source": [
    "# ! sudo pip install -i https://test.pypi.org/simple/ Ottergrad\n",
    "import numpy as np\n",
    "from Ottergrad.autograd import Tensor, Func\n",
    "import Ottergrad.otternumpy as otnp\n",
    "from Ottergrad.activation import Sigmoid"
   ],
   "metadata": {
    "collapsed": false,
    "pycharm": {
     "name": "#%%\n"
    }
   }
  },
  {
   "cell_type": "markdown",
   "source": [
    "# Step 1\n",
    "Create two Tensor type variable 'x' and 'y' from NumPy\n",
    "We also create W which has no data for now"
   ],
   "metadata": {
    "collapsed": false,
    "pycharm": {
     "name": "#%% md\n"
    }
   }
  },
  {
   "cell_type": "code",
   "execution_count": 23,
   "metadata": {
    "pycharm": {
     "name": "#%%\n"
    }
   },
   "outputs": [],
   "source": [
    "W = Tensor(np.ones((1,5)))\n",
    "x = Tensor(np.ones((5,3)))"
   ]
  },
  {
   "cell_type": "markdown",
   "source": [
    "# Step 2\n",
    "Let our first func be like:"
   ],
   "metadata": {
    "collapsed": false,
    "pycharm": {
     "name": "#%% md\n"
    }
   }
  },
  {
   "cell_type": "code",
   "execution_count": 24,
   "outputs": [],
   "source": [
    "func = Sigmoid(otnp.dot(W, x))\n",
    "func = Func(func)"
   ],
   "metadata": {
    "collapsed": false,
    "pycharm": {
     "name": "#%%\n"
    }
   }
  },
  {
   "cell_type": "markdown",
   "source": [
    "Notice that 'func' is typical linear layer type in neuron network"
   ],
   "metadata": {
    "collapsed": false,
    "pycharm": {
     "name": "#%% md\n"
    }
   }
  },
  {
   "cell_type": "markdown",
   "source": [
    "# Step 3\n",
    "Let func do forward propagation once"
   ],
   "metadata": {
    "collapsed": false,
    "pycharm": {
     "name": "#%% md\n"
    }
   }
  },
  {
   "cell_type": "code",
   "execution_count": 25,
   "outputs": [
    {
     "data": {
      "text/plain": "array([[0.99330715, 0.99330715, 0.99330715]])"
     },
     "execution_count": 25,
     "metadata": {},
     "output_type": "execute_result"
    }
   ],
   "source": [
    "func.forward()"
   ],
   "metadata": {
    "collapsed": false,
    "pycharm": {
     "name": "#%%\n"
    }
   }
  },
  {
   "cell_type": "markdown",
   "source": [
    "# Step 4\n",
    "Computing the derivatives with the help of computation graph"
   ],
   "metadata": {
    "collapsed": false,
    "pycharm": {
     "name": "#%% md\n"
    }
   }
  },
  {
   "cell_type": "code",
   "execution_count": 26,
   "outputs": [
    {
     "data": {
      "text/plain": "array([[0.02035004, 0.02035004, 0.02035004, 0.02035004, 0.02035004]])"
     },
     "execution_count": 26,
     "metadata": {},
     "output_type": "execute_result"
    }
   ],
   "source": [
    "func.backward()\n",
    "W.getgrad()"
   ],
   "metadata": {
    "collapsed": false,
    "pycharm": {
     "name": "#%%\n"
    }
   }
  },
  {
   "cell_type": "markdown",
   "source": [
    "Another sample with using 'where'  function"
   ],
   "metadata": {
    "collapsed": false,
    "pycharm": {
     "name": "#%% md\n"
    }
   }
  },
  {
   "cell_type": "code",
   "execution_count": 27,
   "outputs": [
    {
     "data": {
      "text/plain": "array([[1., 1., 1.],\n       [3., 3., 3.]])"
     },
     "execution_count": 27,
     "metadata": {},
     "output_type": "execute_result"
    }
   ],
   "source": [
    "a = Tensor()\n",
    "a.setdata(np.array([[1, 2, 3], [4, 5, 6]]))\n",
    "func = Func(otnp.where(a > 3, 3 * a, 0))\n",
    "func.forward()\n",
    "func.backward()\n",
    "a.getgrad()"
   ],
   "metadata": {
    "collapsed": false,
    "pycharm": {
     "name": "#%%\n"
    }
   }
  },
  {
   "cell_type": "markdown",
   "source": [
    "Finally, we give a vivid 3 layers fully connected network to see if the gradient can be correctly given"
   ],
   "metadata": {
    "collapsed": false,
    "pycharm": {
     "name": "#%% md\n"
    }
   }
  },
  {
   "cell_type": "code",
   "execution_count": 28,
   "outputs": [
    {
     "name": "stdout",
     "output_type": "stream",
     "text": [
      "W1's gradient is [[0.02035004 0.02035004 0.02035004 0.02035004 0.02035004]]\n"
     ]
    }
   ],
   "source": [
    "W1 = Tensor(np.ones((1,5)))\n",
    "W2 = Tensor(np.ones((5,1)))\n",
    "W3 = Tensor(np.ones((2, 5)))\n",
    "x = Tensor(np.ones((5,3)))\n",
    "\n",
    "l1 = Sigmoid(otnp.dot(W1, x))\n",
    "l2 = Sigmoid(otnp.dot(W2, l1))\n",
    "l3 = otnp.dot(W3, l2)\n",
    "func = Func(l3)\n",
    "\n",
    "func.forward()\n",
    "func.backward()\n",
    "\n",
    "print(\"W1's gradient is \" + str(W1.getgrad()))"
   ],
   "metadata": {
    "collapsed": false,
    "pycharm": {
     "name": "#%%\n"
    }
   }
  }
 ],
 "metadata": {
  "kernelspec": {
   "display_name": "Python 3 (ipykernel)",
   "language": "python",
   "name": "python3"
  },
  "language_info": {
   "codemirror_mode": {
    "name": "ipython",
    "version": 3
   },
   "file_extension": ".py",
   "mimetype": "text/x-python",
   "name": "python",
   "nbconvert_exporter": "python",
   "pygments_lexer": "ipython3",
   "version": "3.9.7"
  }
 },
 "nbformat": 4,
 "nbformat_minor": 1
}