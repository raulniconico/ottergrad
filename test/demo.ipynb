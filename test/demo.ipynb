{
 "cells": [
  {
   "cell_type": "markdown",
   "metadata": {},
   "source": [
    "# Ottergrad user guide\n",
    "\n",
    "Ottergrad is an automatic differentiation tool support plenty of NumPy functions who borns from Nuwa framework. This project separates the auto-derivative function from Nuwa into a package, whose algorithm is more efficient, simpler and more stable than Nuwa 0.0.2.\n",
    "\n",
    "Edited by Zixing QIU (zixing.qiu@etu.toulouse-inp.fr)"
   ]
  },
  {
   "cell_type": "markdown",
   "source": [
    "# Step 0\n",
    "import Tensor and Func class\n",
    "We also need import otternumpy and Sigmoid function as our example"
   ],
   "metadata": {
    "collapsed": false,
    "pycharm": {
     "name": "#%% md\n"
    }
   }
  },
  {
   "cell_type": "code",
   "execution_count": 50,
   "outputs": [],
   "source": [
    "# ! sudo pip install -i https://test.pypi.org/simple/ Ottergrad\n",
    "import numpy as np\n",
    "from Ottergrad.autograd import Tensor, Func\n",
    "import Ottergrad.otternumpy as otnp\n",
    "from Ottergrad.activation import Sigmoid"
   ],
   "metadata": {
    "collapsed": false,
    "pycharm": {
     "name": "#%%\n"
    }
   }
  },
  {
   "cell_type": "markdown",
   "source": [
    "# Step 1\n",
    "Create two Tensor type variable 'x' and 'y' from NumPy\n",
    "We also create W which has no data for now"
   ],
   "metadata": {
    "collapsed": false,
    "pycharm": {
     "name": "#%% md\n"
    }
   }
  },
  {
   "cell_type": "code",
   "execution_count": 51,
   "metadata": {
    "pycharm": {
     "name": "#%%\n"
    }
   },
   "outputs": [],
   "source": [
    "W = Tensor(np.ones((1,5)))\n",
    "x = Tensor(np.ones((5,3)))"
   ]
  },
  {
   "cell_type": "markdown",
   "source": [
    "# Step 2\n",
    "Let our first func be like:"
   ],
   "metadata": {
    "collapsed": false,
    "pycharm": {
     "name": "#%% md\n"
    }
   }
  },
  {
   "cell_type": "code",
   "execution_count": 52,
   "outputs": [],
   "source": [
    "func = Sigmoid(otnp.dot(W, x))\n",
    "func = Func(func)"
   ],
   "metadata": {
    "collapsed": false,
    "pycharm": {
     "name": "#%%\n"
    }
   }
  },
  {
   "cell_type": "markdown",
   "source": [
    "Notice that 'func' is typical linear layer type in neuron network"
   ],
   "metadata": {
    "collapsed": false,
    "pycharm": {
     "name": "#%% md\n"
    }
   }
  },
  {
   "cell_type": "markdown",
   "source": [
    "# Step 3\n",
    "Let func do forward propagation once"
   ],
   "metadata": {
    "collapsed": false,
    "pycharm": {
     "name": "#%% md\n"
    }
   }
  },
  {
   "cell_type": "code",
   "execution_count": 53,
   "outputs": [
    {
     "data": {
      "text/plain": "array([[0.99330715, 0.99330715, 0.99330715]])"
     },
     "execution_count": 53,
     "metadata": {},
     "output_type": "execute_result"
    }
   ],
   "source": [
    "func.forward()"
   ],
   "metadata": {
    "collapsed": false,
    "pycharm": {
     "name": "#%%\n"
    }
   }
  },
  {
   "cell_type": "markdown",
   "source": [
    "# Step 4\n",
    "Computing the derivatives with the help of computation graph"
   ],
   "metadata": {
    "collapsed": false,
    "pycharm": {
     "name": "#%% md\n"
    }
   }
  },
  {
   "cell_type": "code",
   "execution_count": 54,
   "outputs": [
    {
     "data": {
      "text/plain": "array([[0.02035004, 0.02035004, 0.02035004, 0.02035004, 0.02035004]])"
     },
     "execution_count": 54,
     "metadata": {},
     "output_type": "execute_result"
    }
   ],
   "source": [
    "func.backward()\n",
    "W.getgrad()"
   ],
   "metadata": {
    "collapsed": false,
    "pycharm": {
     "name": "#%%\n"
    }
   }
  },
  {
   "cell_type": "markdown",
   "source": [
    "Another sample with using 'where'  function"
   ],
   "metadata": {
    "collapsed": false,
    "pycharm": {
     "name": "#%% md\n"
    }
   }
  },
  {
   "cell_type": "code",
   "execution_count": 55,
   "outputs": [
    {
     "data": {
      "text/plain": "array([[1., 1., 1.],\n       [3., 3., 3.]])"
     },
     "execution_count": 55,
     "metadata": {},
     "output_type": "execute_result"
    }
   ],
   "source": [
    "a = Tensor()\n",
    "a.setdata(np.array([[1, 2, 3], [4, 5, 6]]))\n",
    "func = Func(otnp.where(a > 3, 3 * a, 0))\n",
    "func.forward()\n",
    "func.backward()\n",
    "a.getgrad()"
   ],
   "metadata": {
    "collapsed": false,
    "pycharm": {
     "name": "#%%\n"
    }
   }
  },
  {
   "cell_type": "markdown",
   "source": [
    "Finally, we give a vivid 3 layers fully connected network to see if the gradient can be correctly given"
   ],
   "metadata": {
    "collapsed": false,
    "pycharm": {
     "name": "#%% md\n"
    }
   }
  },
  {
   "cell_type": "code",
   "execution_count": 56,
   "outputs": [
    {
     "name": "stdout",
     "output_type": "stream",
     "text": [
      "W1's gradient is [[1.55841779 3.09941541 2.56407321 ... 4.21642738 2.98262384 2.19862303]\n",
      " [1.49618532 3.07101007 2.50246591 ... 3.72816309 3.44169822 2.14018203]\n",
      " [1.57303764 2.91315111 2.5995923  ... 4.00325851 3.29807133 2.03043232]\n",
      " ...\n",
      " [1.4124521  3.21118696 2.62250154 ... 3.68704166 3.28038238 1.98191629]\n",
      " [1.5642053  2.93563087 2.7684254  ... 3.71760803 3.13955798 2.06892669]\n",
      " [1.42228891 3.08226813 2.89191136 ... 3.50635962 3.0772686  1.92641901]]\n"
     ]
    }
   ],
   "source": [
    "x = Tensor(np.random.rand(5000, 30))\n",
    "W1 = Tensor(np.random.rand(30,100))\n",
    "W2 = Tensor(np.random.rand(100, 50))\n",
    "W3 = Tensor(np.random.rand(50, 30))\n",
    "\n",
    "l1 = Sigmoid(otnp.dot(x, W1))\n",
    "l2 = Sigmoid(otnp.dot(l1, W2))\n",
    "l3 = otnp.dot(l2, W3)\n",
    "func = Func(l3)\n",
    "\n",
    "func.forward()\n",
    "func.backward()\n",
    "\n",
    "print(\"W1's gradient is \" + str(W1.getgrad()))"
   ],
   "metadata": {
    "collapsed": false,
    "pycharm": {
     "name": "#%%\n"
    }
   }
  }
 ],
 "metadata": {
  "kernelspec": {
   "display_name": "Python 3 (ipykernel)",
   "language": "python",
   "name": "python3"
  },
  "language_info": {
   "codemirror_mode": {
    "name": "ipython",
    "version": 3
   },
   "file_extension": ".py",
   "mimetype": "text/x-python",
   "name": "python",
   "nbconvert_exporter": "python",
   "pygments_lexer": "ipython3",
   "version": "3.9.7"
  }
 },
 "nbformat": 4,
 "nbformat_minor": 1
}